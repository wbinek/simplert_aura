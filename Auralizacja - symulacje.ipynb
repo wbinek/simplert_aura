{
 "cells": [
  {
   "cell_type": "markdown",
   "metadata": {},
   "source": [
    "# Auralizacaja - Symulacje odpowiedzi impulsowych\n",
    "## 1. Wstęp\n",
    "\n",
    "Celem dzisiejszych zajęć będzie zapoznanie się z różnymi metodami generowania odpowiedzi impulsowych pomeiszczeń na potrzeby auralizacji. Podstawą zajęć jest kod przygotowany w języku programowania Python. \n",
    "\n",
    "## 2. Ray Tracing\n",
    "Podstawą dzisiejszych zajęć będzie algorytm wykorzystujący metodę promieniową do modelowania akustyki pomieszczenia. Cały algorytm podzielony jest na bloki, które wykonują różne akcje. Poszczególne bloki są opisane, aby ułatwić zrozumienie działania algorytmu.\n",
    "\n",
    "Pierwszy blok kodu odpoiwada za importy wykorzystywanywch przez program bibliotek. Najważniejszą z punktu widzenia dzisiejszych zajęć jest biblioteka numpy. Zapewnia ona obsługę macierzy w sposób zbliżony do pakietu Matlab. Dokładne informacje o odpowiednikach komend i instukcji z języka Matlab dostępne są na stronie: https://docs.scipy.org/doc/numpy-1.15.0/user/numpy-for-matlab-users.html."
   ]
  },
  {
   "cell_type": "code",
   "execution_count": null,
   "metadata": {},
   "outputs": [],
   "source": [
    "%matplotlib widget\n",
    "\n",
    "import matplotlib.pyplot as plt\n",
    "import numpy as np\n",
    "from ipywidgets import interact, widgets, IntProgress\n",
    "#from IPython import display\n",
    "import pandas as pd\n",
    "import pickle\n",
    "import cython"
   ]
  },
  {
   "attachments": {
    "tree_struct.png": {
     "image/png": "[encoded data removed]"
    }
   },
   "cell_type": "markdown",
   "metadata": {},
   "source": [
    "Następnie importowana jest biblioteka SimulationRT napisana na potrzeby dzisiejszych zajęć. Zawiera ona prosty algorytm śledzenia promieni. Pliki związane z tą biblioteką znajdują się w folderze simpleRT. Biblioteka ta wykorzystuje pakiet Cython, który pozwala na automatyczne tłumaczenie kodu napisanego w Pythonie na język C. Wykorzystanie biblioteki Cython pozwoliło na przyśpieszenie obliczeń około 1000-krotnie, kosztem przejrzystości i łatwości edycji kodu programu.\n",
    "\n",
    "![tree_struct.png](attachment:tree_struct.png)\n",
    "\n",
    "Po wczytaniu biblioteki tworzony jest podstawowy obiekt który będzie zawierał informacje o prowadzonych symulacjach - SimulationRT(). Obiekt ten przechowuje informacje o modelu, odbiornikach i nadajnikach oraz zawiera funkcie odpowiedzialne za wykonywanie obliczeń."
   ]
  },
  {
   "cell_type": "code",
   "execution_count": null,
   "metadata": {},
   "outputs": [],
   "source": [
    "#!python _CythonSetup.py build_ext --inplace    # Uncomment to build the library first\n",
    "from simpleRT import SimulationRT\n",
    "simulation = SimulationRT()"
   ]
  },
  {
   "cell_type": "markdown",
   "metadata": {},
   "source": [
    "Kolejnym etapem jest wczytanie modelu, dla którego będą przeprowadzane obliczenia. Modele są importowane z popularnego formatu obj. Format ten przypomina sposób opisu geometrii w programie CATT-Acoustic. Na początku pliku znajdują się informacje o wierzchołkach modelu, następnie definicje normalnych powierzchni i na końcu powierzchnie utworzone z wierzchołków.\n",
    "\n",
    "Po wczytaniu model jest przypisywany do symulacji."
   ]
  },
  {
   "cell_type": "code",
   "execution_count": null,
   "metadata": {},
   "outputs": [],
   "source": [
    "from simpleRT import Model3D\n",
    "import os\n",
    "\n",
    "folder = 'modele'\n",
    "basename = 'korytarz'\n",
    "filename = basename+'.obj'\n",
    "model3D = Model3D()\n",
    "\n",
    "os.chdir(folder)\n",
    "model3D.loadOBJ(filename)\n",
    "os.chdir('..')\n",
    "\n",
    "simulation.model3d = model3D"
   ]
  },
  {
   "cell_type": "markdown",
   "metadata": {},
   "source": [
    "Następne bloki kodu odpowiadają za wyświetlenie modelu sali i zadanie niektórych parametrów. Ich szczegółowa analiza nie jest konieczna, ponieważ odpowiadają one tylko za interakcję z użytkownikiem.\n",
    "\n",
    "Prawy przycisk myszy przesuwa model, lewy przycisk obraca model, kółko przybliża i oddala.\n",
    "\n",
    "UWAGA! W celu zatwierdzenia wprowadzanych wartości konieczne jest wciśnięcie klawisza enter!"
   ]
  },
  {
   "cell_type": "code",
   "execution_count": null,
   "metadata": {
    "tags": []
   },
   "outputs": [],
   "source": [
    "model_display_holder = widgets.Output(layout={'border': '1px solid black'})\n",
    "model_display_holder"
   ]
  },
  {
   "cell_type": "code",
   "execution_count": null,
   "metadata": {
    "tags": []
   },
   "outputs": [],
   "source": [
    "from notebook_helpers.helpers import *\n",
    "display_model(model_display_holder, model3D, simulation)"
   ]
  },
  {
   "cell_type": "code",
   "execution_count": null,
   "metadata": {
    "tags": []
   },
   "outputs": [],
   "source": [
    "from notebook_helpers.helpers import *\n",
    "\n",
    "#### Create source, assign it to model, handle interactions with GUI\n",
    "from simpleRT import Source3D\n",
    "source = Source3D()\n",
    "simulation.source = source\n",
    "\n",
    "##### Create receiver, assign it to model, handle interactions with GUI\n",
    "from simpleRT import Receiver3D\n",
    "receiver = Receiver3D()\n",
    "simulation.receiver = receiver\n",
    "\n",
    "display_position_controls(simulation ,model3D, model_display_holder)"
   ]
  },
  {
   "cell_type": "code",
   "execution_count": null,
   "metadata": {
    "tags": []
   },
   "outputs": [],
   "source": [
    "### Create table with material absorption and diffusion coefficients, handle GUI interactions\n",
    "from simpleRT.helpers import matloader as mat\n",
    "import ipysheet as ip\n",
    "\n",
    "mat_filename = os.path.join(folder,basename+'.mat')\n",
    "try:\n",
    "    model3D = mat.load_previous_materials(model3D, mat_filename)\n",
    "except:\n",
    "    print('Material file not found: %s' % s)\n",
    "    pass\n",
    "    \n",
    "df = model3D.export_materials_as_dict()\n",
    "\n",
    "sheet = ip.from_dataframe(df)\n",
    "sheet"
   ]
  },
  {
   "cell_type": "markdown",
   "metadata": {},
   "source": [
    "Ustal pozycje źródła i nadajnika zwryfikuj przyjęte wszpółczynniki pochłaniania i rozproszenia dźwięku. Po zadaniu parametrów modelu można przejść do wykonywania obliczeń. W poniższym bloku wykonywane są symulacje. Na początek uruchom symulacje z domyślnymi parametrami. \n",
    "\n",
    "Parametry:\n",
    " 1. no_rays - liczba promieni\n",
    " 2. fs - fs\n",
    " 3. sim_length - dlugość symulacji\n",
    " 4. max_reflection_order - określa liczbę odbić po której promień jest odrzucany,\n",
    " 5. brute_force - zmienia sposób przeszukiwania geometrii, jeżeli wartość jest ustawiona na false wykorzystywane jest drzewo BVH do szybszego wykrywania przecięć (więcej informacji na wykładzie), \n",
    " 6. reflection_model - zmienia sposób modelowania odbicia dźwięku, dostępne opcje `ReflectionModel.Phong` i `ReflectionModel.Base` (więcej informacji na wykładach)\n",
    " 7. intersection_model - zmienia sposób wykrywania przecięć promieni z modelem `RaySphereIntersection.Full` i `RaySphereIntersection.Simple`. W przypadku modelu Full uwzględniany jest czas propagacji promienia przez odbiornik, w przypadku modelu Simple uwzględniany jest tylko czas dotarcia do środka odbiornika. Korzystając z modelu simple nie jest konieczne wykrywanie maksimów na etapie auralizacji (więcej informacji na wykładach).\n",
    "\n",
    "W czasie trwania obliczeń zapoznaj się z opisem działania algorytmu znajdującym się poniżej."
   ]
  },
  {
   "cell_type": "code",
   "execution_count": null,
   "metadata": {},
   "outputs": [],
   "source": [
    "from simpleRT import ReflectionModel, RaySphereIntersection\n",
    "\n",
    "no_rays = 15000\n",
    "fs = 44100\n",
    "sim_length = 2\n",
    "max_reflection_order = 40\n",
    "brute_force = False\n",
    "reflection_model = ReflectionModel.Phong\n",
    "intersection_model = RaySphereIntersection.Full\n",
    "\n",
    "# Update and optionaly save materials\n",
    "updated_mat = ip.to_dataframe(sheet)\n",
    "model3D.import_materials_from_dict(updated_mat)\n",
    "#mat.save_materials(model3D, mat_filename)\n",
    "    \n",
    "# Define callback to display progress bar\n",
    "global f\n",
    "f = IntProgress(min=0, max=no_rays) # instantiate the bar\n",
    "display(f) # display the bar\n",
    "def callback(no_rays):\n",
    "    if no_rays%100==0:\n",
    "        global f\n",
    "        f.value += 100\n",
    "\n",
    "# Perform all required operations to start simulations\n",
    "def run_simulations(sim):\n",
    "    sim.initialize_simulation_parameters(no_rays, fs, sim_length, \\\n",
    "                                        max_reflection_order, brute_force, \n",
    "                                        reflection_model,intersection_model)\n",
    "    sim.initialize_rays() #create array of rays, set ray energy and position in the source, generate random ray direction\n",
    "    sim.run_simulation(callback)\n",
    "    return sim\n",
    "\n",
    "simulation = run_simulations(simulation)\n",
    "print(simulation.no_lost)"
   ]
  },
  {
   "cell_type": "markdown",
   "metadata": {},
   "source": [
    "Główny algorytm programu można przedstawić w postaci pseudokodu jako:\n",
    "\n",
    "---\n",
    "```\n",
    "Jeżeli liczba odbić jest mniejsza od maksymalnego rzędu odbicia:\n",
    "    Sprawdź przecięcie promienia z odbiornikiem\n",
    "    Wyszukaj z którą powierzchnią przecina się promień.\n",
    "    Jeżeli promień nie przecina się z powierzchnią\n",
    "        Uznaj promień za stracony\n",
    "    Sprawdż czy przecięcie z odbiornikiem jest przed przecięciem z powierzchnią\n",
    "        Jeżeli tak dodaj energię promienia do odbiornika\n",
    "    Przesuń promień do punktu następnego odbicia\n",
    "    Oblicz energię i kierunek promienia po odbiciu\n",
    "```\n",
    "---\n",
    "\n",
    "Szczegółowo przedstawia się on w sposób następujący:\n",
    "\n",
    "---\n",
    "```cython \n",
    "last_face = None\n",
    "for i in range(self.max_refl_ord):\n",
    "\n",
    "    #Find colision with receiver \n",
    "    t1 = np.Inf\n",
    "    rec_hit = libmath.ray_sphere_intersection(ray.position, ray.direction ,self.receiver.position, self.receiver.radius)\n",
    "    if rec_hit is not -1:\n",
    "        t1 = rec_hit[0] #entry point\n",
    "        t2 = rec_hit[1] #out_point\n",
    "\n",
    "    #Find colision with model geometry\n",
    "    if self.brute_force:\n",
    "        tmin, hit_face = self.brute_force_triangle_intersection(ray, self.model3d.faces, last_face)\n",
    "    else:         \n",
    "        tmin, hit_face = self.kd_tree_triang_intersection(ray, last_face)\n",
    "\n",
    "\n",
    "    # Test if model hit any face, if not it is lost\n",
    "    if hit_face is None:\n",
    "        ray.ray_lost()\n",
    "        self.no_lost+=1\n",
    "        return\n",
    "\n",
    "    # Test if colision with model is after colision with receiver\n",
    "    if tmin>t1 and t1>0:              \n",
    "        entry_sample = int(min((ray.total_dist + t1)/self.dv, self.fs*self.sim_len))\n",
    "        exit_sample = int(min((ray.total_dist + t2)/self.dv + 1, self.fs*self.sim_len))\n",
    "        ds = exit_sample-entry_sample\n",
    "\n",
    "        # If simlified intersection model is selected - using only middle intersection sample\n",
    "        if self.ray_sphere_int == RaySphereIntersection.Simple:\n",
    "            entry_sample = int((exit_sample-entry_sample)/2)\n",
    "            exit_sample = entry_sample+1\n",
    "            ds=1\n",
    "\n",
    "        # add energy to result\n",
    "        self.result[:,entry_sample:exit_sample] += np.transpose(np.tile(ray.energy,(ds,1)))\n",
    "        ray.receiver_hit = True\n",
    "\n",
    "    # Move ray to face hit position, update energy\n",
    "    dif_coeff = self.model3d.materials[hit_face.mat_name]['diffusion_coeff']\n",
    "    abs_coeff = self.model3d.materials[hit_face.mat_name]['absorption_coeff']\n",
    "    last_face = hit_face\n",
    "    ray.position = libmath.move_ray(ray.position, ray.direction, tmin)\n",
    "    ray.total_dist += tmin\n",
    "    ray.energy*=(1-abs_coeff)\n",
    "\n",
    "    # calculate reflection based on chosen reflection model\n",
    "    if self.reflection_model == ReflectionModel.Base:\n",
    "        ray.direction = libmath.base_reflection(ray.direction, self.model3d.normals[hit_face.normal_idx], dif_coeff)\n",
    "    elif self.reflection_model == ReflectionModel.Phong:\n",
    "        ray.direction = libmath.phong_reflection(ray.direction, self.model3d.normals[hit_face.normal_idx], dif_coeff)\n",
    "    ray.refl_order+=1\n",
    "```\n",
    "---"
   ]
  },
  {
   "cell_type": "markdown",
   "metadata": {},
   "source": [
    "W przypadku kiedy odbiornik ma określoną objętość (`intersection_model = RaySphereIntersection.Full`, konieczne jest podzielenie wyniku symulacji przez objętość odbiornika. W ten sposób wyniki są niezależne od objętości odbiornika."
   ]
  },
  {
   "cell_type": "code",
   "execution_count": null,
   "metadata": {},
   "outputs": [],
   "source": [
    "receiver_volume = (4/3*np.pi*simulation.receiver.radius**3)\n",
    "simulation.result = simulation.result/receiver_volume\n",
    "simulation.result_spatial = simulation.result_spatial/receiver_volume"
   ]
  },
  {
   "cell_type": "markdown",
   "metadata": {},
   "source": [
    "Nastęnie możemy wyświetlić wyniki symulacji. Zmienna simulation.results zawiera echogramy dla poszczególnych częstotliwości. Wynik dla określonej częstotliwości można otrzymać przez `simulations.result[idx]`, \n",
    "gdzie `idx`to index częstotliwości. Pierwszy wykres przedstawia zarejestrowaną energię docierającą do odbiornika (kwadrat ciśnienia akustycznego), drugi przedstawia echogram w skali logarytmicznej."
   ]
  },
  {
   "cell_type": "code",
   "execution_count": null,
   "metadata": {},
   "outputs": [],
   "source": [
    "e_tot = np.sum(simulation.result, axis=0)\n",
    "\n",
    "plt.figure(figsize=(10, 3),num='Sumaryczny echogram, skala liniowa')\n",
    "plt.plot(simulation.time,e_tot)\n",
    "\n",
    "plt.figure(figsize=(10, 3),num='Sumaryczny echogram, skala logarytmiczna')\n",
    "zeros = np.zeros(len(e_tot))\n",
    "Lp = 10*np.log10(e_tot/4e-10)\n",
    "Lp[Lp==-np.inf]=0\n",
    "plt.plot(simulation.time,Lp)"
   ]
  },
  {
   "cell_type": "markdown",
   "metadata": {},
   "source": [
    "Na koniec możemy zapisać wyniki. Wynik symulacji zapisywany jest do pliku, którego nazwa składa się z nazwy modelu, liczby promieni w symulacjach oraz rozszerzenia \".res\"."
   ]
  },
  {
   "cell_type": "code",
   "execution_count": null,
   "metadata": {},
   "outputs": [],
   "source": [
    "pickle.dump( simulation, open( os.path.join(folder,basename+str(no_rays)+\".res\"), \"wb\" ) )"
   ]
  },
  {
   "cell_type": "markdown",
   "metadata": {},
   "source": [
    "## 3. Auralizacjia\n",
    "\n",
    "Pierwszym krokiem jest wczytanie wyników symulacji. Jeżeli w danej sesji zostały przeprowadzone symulajce, wybierany jest wynik przechowywany w pamięci, w przeciwnym razie wyniki wczytywane są z dysku. Konieczne może być też ponowne zaimportowanie wykorzystywanych bibliotek."
   ]
  },
  {
   "cell_type": "code",
   "execution_count": null,
   "metadata": {},
   "outputs": [],
   "source": [
    "import matplotlib.pyplot as plt\n",
    "import numpy as np\n",
    "import pandas as pd\n",
    "import pickle\n",
    "import cython\n",
    "import os"
   ]
  },
  {
   "cell_type": "code",
   "execution_count": null,
   "metadata": {},
   "outputs": [],
   "source": [
    "import pickle\n",
    "from simpleRT import SimulationRT\n",
    "\n",
    "#del simulation\n",
    "\n",
    "fs=44100\n",
    "if 'simulation' not in locals():\n",
    "    no_rays = 1500000\n",
    "    folder='modele'\n",
    "    basename = 'halaWidowiskowa'\n",
    "    simulation = pickle.load( open( os.path.join(folder,basename+str(no_rays)+\".res\"), \"rb\" ) )\n",
    "    \n",
    "    #simulation = SimulationRT()\n",
    "    #spos = [0.8,4,15,1]\n",
    "    #rpos = [2.9,1.1,3]\n",
    "    #fs=44100\n",
    "    #simulation.import_ISIMPA_results('ISimpa/Sound level.csv', 'ISimpa/Punctual receiver intensity.csv',spos,rpos,fs)\n",
    "    "
   ]
  },
  {
   "cell_type": "markdown",
   "metadata": {},
   "source": [
    "Następnie na podstawie echogramów chcemy uzyskać odpowiedzi impulsowe. Poniżej przedstawione są dwa podejścia do przekształcenia echogramu w odpowiedź impulsową nadającą się do auralizacji. \n",
    "\n",
    "### Wariant 1 - wykrywanie maksimów i bezpośredni splot\n",
    "Ponieważ symulowane echogramy są próbkowane z częstotliwością 44100Hz, przejście promienia przez odbiornik trwa więcej niż jedną próbkę. Na potwierdzenie powiększ prążek odpowiadający za dźwięk bezpośredni na wykresach powyżej. Zauważ, że energia jest rozłożona na wiele próbek. Dla poprawnej auralizacji w tym wariancie konieczne jest założenie, że odbiornik jest punktem, a poszczególne promienie docierają do niego tylko w pojedynczych, określonych chwilach czasu. Wtedy wynik symulacji możemy potraktować jako ciąg delt diraca, z odpowiednią amplitudą i opóźnieniami (jedna delta - jedno docierające do odbiornika odbicie). Taki ciąg możemy splatać z naszym sygnałem.\n",
    "\n",
    "Przeprowadź ponowne obliczenia dla odbiornika o promieniu 5cm, porównaj wyniki z otrzymanymi w poprzedniej symulacji. Nie zapisuj wyników!\n",
    "\n",
    "Ok, jak widać znaczniej mniej promieni trafiło do odbiornika, a wyniki są wyraźnie mocniej zaszumione. W celu zwększenia dokładności możliwe jest zwiększenie liczby promieni, ale to wiąże się z dłuższym czasem obliczen. Zamiast tego można sprowadzić wyniki do punktu przez wykrywanie maksimów.\n",
    "\n",
    "Funkcja `peak_detection()` w pierwszej kolejności znajduje indeksy maksimów i zapisuje je do zmiennej `peaks`, nastęnie tworzony jest wektor zer o długości odpowiadającej długości echogramu, na koniec wykryte maksima są przepisywane w odpowiednich miejscach do wektora zer."
   ]
  },
  {
   "cell_type": "code",
   "execution_count": null,
   "metadata": {},
   "outputs": [],
   "source": [
    "from scipy.signal import find_peaks\n",
    "import numpy as np\n",
    "\n",
    "def peak_detection(result):\n",
    "    peaks, _ = find_peaks(result, height=0)\n",
    "    pf_res = np.zeros(len(result))\n",
    "    pf_res[peaks] = result[peaks]\n",
    "    return pf_res"
   ]
  },
  {
   "cell_type": "markdown",
   "metadata": {},
   "source": [
    "Mając echogramy po wykrywaniu impulsów koniecznie jest uwzględnienie jakiego pasma częstotliwości one dotyczą. Wtym celu wykonywana jest filtracja echogramu z wkorzystaniem filtrów oktawowych. Poniższy blok służy do wygenerowania banku filtrów."
   ]
  },
  {
   "cell_type": "code",
   "execution_count": null,
   "metadata": {},
   "outputs": [],
   "source": [
    "from scipy.signal import find_peaks\n",
    "from pyfilterbank import FractionalOctaveFilterbank\n",
    "\n",
    "#Initialize octave filter bank\n",
    "ofb = FractionalOctaveFilterbank(fs, order=4,nth_oct=1,  start_band=-3, end_band=2)\n",
    "print(ofb.center_frequencies)\n",
    "\n",
    "def filter_octave(data, ofb, idx):\n",
    "    y, states = ofb.filter(data)\n",
    "    return y[:,idx]"
   ]
  },
  {
   "cell_type": "markdown",
   "metadata": {},
   "source": [
    "Mając gotowe filtry można przefiltrować echogramy dla każdej częstotliwości i je ze sobą zsumować, żeby otrzymać modelowaną odpowiedź impulsową."
   ]
  },
  {
   "cell_type": "code",
   "execution_count": null,
   "metadata": {},
   "outputs": [],
   "source": [
    "# ZMIENNA KONTROLUJĄCA CZY WYKRYWANIE MAKSIMÓW JEST AKTYWNE\n",
    "do_peak_detection = True\n",
    "\n",
    "# Variable creation\n",
    "pf_filter = np.empty(simulation.result.T.shape, dtype=float)\n",
    "peak_det = np.empty(simulation.result.T.shape, dtype=float)\n",
    "\n",
    "# Convert energy to pressure\n",
    "result_press = np.sqrt(simulation.result)\n",
    "\n",
    "# For each freq range detect peaks anf filter the echogram\n",
    "for idx in range(len(simulation.result)):\n",
    "    if do_peak_detection:\n",
    "        peak_det[:,idx] = peak_detection(result_press[idx])\n",
    "        pf_filter[:,idx] = filter_octave(peak_det[:,idx], ofb, idx)\n",
    "    else:\n",
    "        pf_filter[:,idx] = filter_octave(result_press[idx], ofb, idx)\n",
    "        \n",
    "# Sumowanie wszystkich częstotliwości\n",
    "ir_w1 = np.sum(pf_filter,axis=1)"
   ]
  },
  {
   "cell_type": "markdown",
   "metadata": {},
   "source": [
    "Poniższy blok kodu wyświetla etapy obliczania odpowiedzi impulsowej oraz ostateczny wynik"
   ]
  },
  {
   "cell_type": "code",
   "execution_count": null,
   "metadata": {
    "jupyter": {
     "source_hidden": true
    }
   },
   "outputs": [],
   "source": [
    "# Wyświetlanie wyników\n",
    "plt.figure(figsize=(10, 5),num='Proces wyznaczania odpowiedzi impulsowej')\n",
    "ax = plt.subplot(311)\n",
    "ax.set_title(\"Echogram\")\n",
    "plt.plot(result_press[3,2000:8000])\n",
    "ax = plt.subplot(312)\n",
    "ax.set_title(\"Echogram po wykrywaniu impulsów\")\n",
    "plt.plot(peak_det[2000:8000,3])\n",
    "ax = plt.subplot(313)\n",
    "ax.set_title(\"Echogram po wykrywaniu impulsów i filtracji\")\n",
    "plt.plot(pf_filter[2000:8000,3])\n",
    "plt.tight_layout()\n",
    "\n",
    "\n",
    "plt.figure(figsize=(10, 5),num='Obliczona odpowiedź impulsowa w skali liniowej, wariant 1')\n",
    "plt.plot(simulation.time,ir_w1)\n",
    "\n",
    "plt.figure(figsize=(10, 5),num='Obliczona odpowiedź impulsowa w skali logarytmicznej, wariant 1')\n",
    "Lp = 10*np.log10(ir_w1**2/(2e-5)**2)\n",
    "Lp[Lp==-np.inf]=0\n",
    "plt.plot(simulation.time,Lp)\n",
    "plt.ylim(np.max(Lp)-90,np.max(Lp)+5)"
   ]
  },
  {
   "cell_type": "markdown",
   "metadata": {},
   "source": [
    "### Wariant 2 - Echogram jako obwiednia przebiegu kwadratu ciśnienia akustycznego\n",
    "\n",
    "W symulacjach metodą geometryczną śledzimy rozchodzenie się energii w modelu. Energia jest proporcjonalna do kwadratu ciśnienia akustycznego. Ponieważ w symulacjach zaniedbujemy fazę otrzymane echogramy możemy rozpatrywać jako obwiednię przebiegu kwadratu ciśnienia akustycznego. W takim razie aby odtworzyć przebieg ciśnienia możemy wygenerować szum biały (płaskie widmo), na który nałożymy obwiednię otrzymaną z symulacji. W celu pozbycia się gwałtownych skoków w echogramie wykonywany jest splot z krótkim oknem Gaussa. \n",
    "\n",
    "Uwaga - szerokość okna Gaussa regulowana parametrem `std_ms` ma duży wpływ na ostatecznie uzyskiwane brzmienie!"
   ]
  },
  {
   "cell_type": "code",
   "execution_count": null,
   "metadata": {},
   "outputs": [],
   "source": [
    "from scipy import signal\n",
    "from scipy.signal import fftconvolve\n",
    "\n",
    "# Convert energy to ~pressure\n",
    "result_press = np.sqrt(simulation.result)\n",
    "\n",
    "# Variable creation\n",
    "ir_gaussian = np.empty(simulation.result.T.shape, dtype=float)\n",
    "noise_filter = np.empty(simulation.result.T.shape, dtype=float)\n",
    "ir_bands = np.empty(simulation.result.T.shape, dtype=float)\n",
    "\n",
    "# Generate white noise\n",
    "noise = np.random.rand(len(simulation.time))*2 - 1\n",
    "noise = np.multiply(noise, signal.tukey(len(simulation.time), alpha=0.005))\n",
    "\n",
    "# Generate gaussian window to smooth the echogram\n",
    "glen_ms = 10\n",
    "gstd_ms = 1\n",
    "glen_sample = int(fs*glen_ms/1000)\n",
    "gstd_sample = int(fs*gstd_ms/1000)\n",
    "gaussian = signal.gaussian(glen_sample, std=gstd_sample)\n",
    "\n",
    "# For each freq range filter noise and apply envelope\n",
    "for idx in range(len(simulation.result)):\n",
    "    ir_gaussian[:,idx] = fftconvolve(result_press[idx], gaussian, mode = 'same') # Convovle ir with gaussian to smooth the result\n",
    "    noise_filter[:,idx] = filter_octave(noise, ofb, idx)                         # Filter noise using octave filters\n",
    "    ir_bands = np.multiply(ir_gaussian,noise_filter)                             # Apply the envelope by signals multiplication (element by element)\n",
    "    \n",
    "ir_w2 = np.sum(ir_bands,axis=1)"
   ]
  },
  {
   "cell_type": "markdown",
   "metadata": {},
   "source": [
    "Poniższy blok kodu wyświetla etapy obliczania odpowiedzi impulsowej oraz ostateczny wynik"
   ]
  },
  {
   "cell_type": "code",
   "execution_count": null,
   "metadata": {
    "jupyter": {
     "source_hidden": true
    }
   },
   "outputs": [],
   "source": [
    "# Wyświetlanie wyników\n",
    "plt.figure(figsize=(10, 5),num='Proces wyznaczania odpowiedzi impulsowej')\n",
    "ax = plt.subplot(411)\n",
    "ax.set_title(\"Echogram\")\n",
    "plt.plot(result_press[3,2000:8000])\n",
    "ax = plt.subplot(412)\n",
    "ax.set_title(\"Echogram spleciony z oknem Gaussa\")\n",
    "plt.plot(ir_gaussian[2000:8000,3])\n",
    "ax = plt.subplot(413)\n",
    "ax.set_title(\"Przefiltrowany szum\")\n",
    "plt.plot(noise_filter[2000:8000,3])\n",
    "ax = plt.subplot(414)\n",
    "ax.set_title(\"Szum z nałożoną obwiednią\")\n",
    "plt.plot(ir_bands[2000:8000,3])\n",
    "plt.tight_layout()\n",
    "\n",
    "plt.figure(figsize=(10, 3),num='Obliczona odpowiedź impulsowa w skali liniowej, wariant 2')\n",
    "plt.plot(simulation.time,ir_w2)\n",
    "\n",
    "plt.figure(figsize=(10, 3),num='Obliczona odpowiedź impulsowa w skali logarytmicznej, wariant 2')\n",
    "Lp = 10*np.log10(ir_w2**2/(2e-5)**2)\n",
    "Lp[Lp==-np.inf]=0\n",
    "plt.plot(simulation.time,Lp)\n",
    "plt.ylim(np.max(Lp)-90,np.max(Lp)+5)"
   ]
  },
  {
   "cell_type": "markdown",
   "metadata": {},
   "source": [
    "### Splot odpowiedzi impulsowej z sygnałem audio\n",
    "\n",
    "Mając wyznaczone odpowiedzi impulsowe można dokonać splotu z wybranym sygnałem.\n",
    "Funkcja fftconvolve wykonuje szybki splot z wykorzytaniem transformacji Fouriera."
   ]
  },
  {
   "cell_type": "code",
   "execution_count": null,
   "metadata": {},
   "outputs": [],
   "source": [
    "import soundfile as sf\n",
    "from scipy.signal import fftconvolve\n",
    "\n",
    "#Load audio sample and convolve\n",
    "audio_folder = 'audio'\n",
    "audio_file = 'mowa.wav'\n",
    "data, samplerate = sf.read(os.path.join(audio_folder,audio_file))\n",
    "convolved_w1 = fftconvolve(data[:], ir_w1)\n",
    "convolved_w2 = fftconvolve(data[:], ir_w2)"
   ]
  },
  {
   "cell_type": "markdown",
   "metadata": {},
   "source": [
    "Następnie można przesłuchać wyniki auralizacj."
   ]
  },
  {
   "cell_type": "code",
   "execution_count": null,
   "metadata": {},
   "outputs": [],
   "source": [
    "#import sounddevice as sd\n",
    "import IPython.display as ipd\n",
    "\n",
    "#sd.play(convolved, fs)\n",
    "print('Wariant 1:')\n",
    "display(ipd.Audio(convolved_w1, rate=fs))\n",
    "print('Wariant 2:')\n",
    "display(ipd.Audio(convolved_w2, rate=fs))\n",
    "\n",
    "print('Wariant 2 IR:')\n",
    "display(ipd.Audio(ir_w2, rate=48000))"
   ]
  },
  {
   "cell_type": "markdown",
   "metadata": {},
   "source": [
    "## 4. Uprzestrzennienie\n",
    "\n",
    "Metoda promieniowa oprócz przebiegu energii może dostarczać informacji na temat kierunku z którego promienie docierają do odbiornika. Na tej podstawie można odtworzyć wrażenia przestrzenne związane z odsłuchem w symulowanym pomieszczeniu. Poniważ docelową formą odsłuchu na naszych zajęciach jest wykorzstyanie słuchawek, w celu nadanie przestrzenności symulowanej odpowiedzi impulsowej konieczne jest wykorzystanie funkcji HRTF.\n",
    "\n",
    "Poniższy fragment kodu otwiera pliki HRTF zapisane w otwartym formacie .sofa, oraz wyświetla zapisane w pliku pozycje odbiorników i przykładową odpowiedź impulsową dla prawego i lewego ucha."
   ]
  },
  {
   "cell_type": "code",
   "execution_count": null,
   "metadata": {},
   "outputs": [],
   "source": [
    "import matplotlib.pyplot as plt\n",
    "from mpl_toolkits import mplot3d\n",
    "\n",
    "import numpy as np\n",
    "import sofa\n",
    "\n",
    "def plot_coordinates(coords, title):\n",
    "    x0 = coords\n",
    "    n0 = coords\n",
    "    fig = plt.figure(figsize=(5, 5))\n",
    "    ax = fig.add_subplot(111, projection='3d')\n",
    "    q = ax.quiver(x0[:, 0], x0[:, 1], x0[:, 2], n0[:, 0],\n",
    "                  n0[:, 1], n0[:, 2], length=0.1)\n",
    "    plt.xlabel('x (m)')\n",
    "    plt.ylabel('y (m)')\n",
    "    plt.title(title)\n",
    "    return q\n",
    "\n",
    "# Open and print sofa Metadata\n",
    "HRTF_path = \"./hrtfs/mit_kemar_normal_pinna.sofa\"\n",
    "HRTF = sofa.Database.open(HRTF_path)\n",
    "\n",
    "# plot Source positions\n",
    "source_positions = HRTF.Source.Position.get_values(system=\"cartesian\")\n",
    "receiver_positions = HRTF.Receiver.Position.get_values(system=\"cartesian\")\n",
    "emitter_positions = HRTF.Emitter.Position.get_values(system=\"cartesian\")\n",
    "plot_coordinates(source_positions, 'Source positions');\n",
    "\n",
    "source_positions_sph = HRTF.Source.Position.get_values(system=\"spherical\")\n",
    "\n",
    "# plot Data.IR at M=5 for E=0\n",
    "measurement = 5\n",
    "emitter = 0\n",
    "legend = []\n",
    "\n",
    "t = np.arange(0,HRTF.Dimensions.N)*(1/HRTF.Data.SamplingRate.get_values(indices={\"M\":measurement}))\n",
    "\n",
    "plt.figure(figsize=(10, 2))\n",
    "for receiver in np.arange(HRTF.Dimensions.R):\n",
    "    plt.plot(t, HRTF.Data.IR.get_values(indices={\"M\":measurement, \"R\":receiver, \"E\":emitter}))\n",
    "    legend.append('Receiver {0}'.format(receiver))\n",
    "plt.title('HRIR at M={0} for emitter {1}'.format(measurement, emitter))\n",
    "plt.legend(legend)\n",
    "plt.xlabel('$t$ in s')\n",
    "plt.ylabel(r'$h(t)$')\n",
    "plt.grid()\n",
    "\n",
    "HRTF.close()"
   ]
  },
  {
   "cell_type": "markdown",
   "metadata": {},
   "source": [
    "Poniższy blok kodu przygotowuje dane do dalszych obliczeń. Wykonywana są konwersje układów współrzędnych i przeliczanie wyników z radianów na stopnie."
   ]
  },
  {
   "cell_type": "code",
   "execution_count": null,
   "metadata": {},
   "outputs": [],
   "source": [
    "from aura.helpers import cart2sph, rotation_relative2source\n",
    "\n",
    "# Convert coordinates from [x z -y] to [x y z]\n",
    "spos=simulation.source.position.asArray()\n",
    "spos=[spos[0], -spos[2], spos[1]]\n",
    "rpos=simulation.receiver.position.asArray()\n",
    "rpos=[rpos[0], -rpos[2], rpos[1]]\n",
    "\n",
    "# Calculate vector pointing from the receiver to the source\n",
    "source_vector = np.subtract(spos,rpos)\n",
    "source_vector = source_vector/np.linalg.norm(source_vector)\n",
    "sv_spherical = np.array(cart2sph(*source_vector))\n",
    "sv_spherical = np.rad2deg(sv_spherical)\n",
    "\n",
    "# Rotate simulation results so that source is at 0,0 or angles given in rotation_relative2source\n",
    "spatial_info = np.sum(simulation.result_spatial,axis=0).T\n",
    "spatial_info = np.vstack((spatial_info[:,0], -spatial_info[:,2], spatial_info[:,1])).T\n",
    "#spatial_spherical = np.array([ for vector in spatial_info.T])\n",
    "#ssa = spatial_spherical_aligned = rotation_relative2source(spatial_spherical,sv_spherical,0,0)\n"
   ]
  },
  {
   "cell_type": "markdown",
   "metadata": {},
   "source": [
    "W kolejnym bloku obliczane jest faktyczne uprzestrzennienie odpowiedzi impulsowej. Parametry `azim` i `elev` odpowiadają za ustawienie głowy względem odbiornika. Wartości `0,0` oznaczają, że słuchacz skierowany jest bezpośrednio na odbiornik. Następnie wybierana jest odpowiedź impulsowa wyznaczona w poprzednim kroku analiz (domyślenie 2-gi wariant) i wczytywane są dane z pliku HRTF. W razie konieczniści odwpowiedź impulsowa jest przepróbkowana.\n",
    "\n",
    "Właściwe obliczenia zaczynają się od ustalenia długości okna analizy - domyślnie 20 ms. Okno to określa czas przez który sygnał będzie przypisany do konkrentego kierunku - (krótsze okno - częstsza zmiana kierunków). Na podstawie długości okna wyznaczane są niezbędne do obliczeń parametry i inicjalizowany jest obekt przechowujący wynik `binaural_ir`. \n",
    "\n",
    "Dla każdego okna (pętla `for`) wyznaczany jest średni kierunek z którego dochodził sygnał. Kierunek ten jest przeliczany na współrzędne sferyczne i stopnie oraz przekształcany w odniesieniu do pozycji źródła (tak aby kąty 0,0 oznaczały, że dźwięk dochodzi ze źródła). Znając kierunek z którego dochodzi sygnał wybierany jest najbliższy HRTF i przeprowadzany jest splot danego okna odpowiedzi impulsowej z wybranym filtrm HRTF. \n",
    "\n",
    "Schemat filtracji jest identyczny jak w algorytmie szybkiego splotu overlap-add, z tą różnicą, że dla każdego okna wykorzystywany jest inny filtr. Wykorzystanie pełnego wyniku splotu (overlap) i dodawanie zachodzącej na siebie części pozwala na uniknięcie problemów z nagłą zmianą filtra i skokami sygnału."
   ]
  },
  {
   "cell_type": "code",
   "execution_count": null,
   "metadata": {},
   "outputs": [],
   "source": [
    "from scipy.signal import resample_poly, convolve\n",
    "from scipy import spatial\n",
    "from fractions import Fraction\n",
    "\n",
    "# Set head rotation\n",
    "azim=0\n",
    "elev=0\n",
    "\n",
    "# Select impulse response to spacialize\n",
    "ir = ir_w2\n",
    "\n",
    "# Load required info from HRTF\n",
    "HRTF_path = \"./hrtfs/mit_kemar_normal_pinna.sofa\"\n",
    "HRTF = sofa.Database.open(HRTF_path)\n",
    "hrtf_len = HRTF.Dimensions.N\n",
    "hrtf_fs = HRTF.Data.SamplingRate.get_values(indices={\"M\":0})\n",
    "hrtf_source_positions = HRTF.Source.Position.get_values(system=\"spherical\")\n",
    "hrtf_data = HRTF.Data\n",
    "\n",
    "# Build kd tre for fast nearest point searching\n",
    "tree = spatial.KDTree(hrtf_source_positions[:,0:-2])\n",
    "\n",
    "# Check sampling rates, resample if needed\n",
    "if simulation.fs != hrtf_fs:\n",
    "    Print('Resample required, resampling simulation results')\n",
    "    ratio = fraction(hrtf_fs,simulation.fs)\n",
    "    ir = resample_poly(ir,ratio.nominator,ratio.denominator)\n",
    "    spatial_info = resample_poly(spatial_info,ratio.nominator,ratio.denominator)\n",
    "\n",
    "# Set windowing parameters and initialize result vector\n",
    "wlen_ms = 15\n",
    "wlen_sample = int(hrtf_fs*wlen_ms/1000)\n",
    "no_loops = int(len(ir)/wlen_sample)\n",
    "binaural_ir = np.zeros(((no_loops*wlen_sample)+hrtf_len-1,2))\n",
    "\n",
    "# Calculate spatial IR\n",
    "for i in range(no_loops):\n",
    "    window_data = ir[i*wlen_sample:(i+1)*wlen_sample]\n",
    "    avr_dir = np.sum(spatial_info[i*wlen_sample:(i+1)*wlen_sample],axis=0)\n",
    "    avr_dir_sph = np.rad2deg(cart2sph(*avr_dir))\n",
    "    avr_dir_rel = rotation_relative2source([avr_dir_sph],sv_spherical,azim,elev)\n",
    "    _, index = tree.query(avr_dir_rel[0,0:-2])\n",
    "    #print(avr_dir_rel)\n",
    "    \n",
    "    hrtf_l = HRTF.Data.IR.get_values(indices={\"M\":index, \"R\":1, \"E\":0})\n",
    "    hrtf_r = HRTF.Data.IR.get_values(indices={\"M\":index, \"R\":0, \"E\":0})\n",
    "    \n",
    "    # Overlap add\n",
    "    binaural_ir[i*wlen_sample:(i+1)*wlen_sample + hrtf_len-1,0]+=convolve(window_data, hrtf_l, mode='full')\n",
    "    binaural_ir[i*wlen_sample:(i+1)*wlen_sample + hrtf_len-1,1]+=convolve(window_data, hrtf_r, mode='full')\n",
    "    \n",
    "HRTF.close()\n",
    "    \n",
    "# Plot spatial IR\n",
    "t = np.arange(0,len(binaural_ir))*(1/hrtf_fs)\n",
    "plt.figure(figsize=(10, 5),num='Binauralna odpowiedź impulsowa')\n",
    "plt.plot(t,binaural_ir[:,0])\n",
    "plt.plot(t,binaural_ir[:,1])\n",
    "\n",
    "#import sounddevice as sd\n",
    "import IPython.display as ipd\n",
    "\n",
    "print('Binauralna odpowiedź impulsowa')\n",
    "display(ipd.Audio([binaural_ir[:,0], binaural_ir[:,1]] , rate=48000))"
   ]
  },
  {
   "cell_type": "markdown",
   "metadata": {},
   "source": [
    "Nastęnie można wykonać splot binauralnej odpowiedzi impulsowej z wybranym sygnałem."
   ]
  },
  {
   "cell_type": "code",
   "execution_count": null,
   "metadata": {},
   "outputs": [],
   "source": [
    "import soundfile as sf\n",
    "from scipy.signal import fftconvolve\n",
    "\n",
    "#Load audio sample and convolve\n",
    "audio_folder = 'audio'\n",
    "audio_file = 'mowa.wav'\n",
    "audio, samplerate = sf.read(os.path.join(audio_folder,audio_file))\n",
    "\n",
    "# Check sampling rates, resample if needed\n",
    "if samplerate != hrtf_fs:\n",
    "    Print('Resample required, resampling simulation results')\n",
    "    ratio = fraction(samplerate,hrtf_fs.fs)\n",
    "    binaural_ir = resample_poly(ir,ratio.nominator,ratio.denominator)\n",
    "\n",
    "convolved_l = fftconvolve(audio[:], binaural_ir[:,0])\n",
    "convolved_r = fftconvolve(audio[:], binaural_ir[:,1])\n",
    "\n",
    "#import sounddevice as sd\n",
    "import IPython.display as ipd\n",
    "\n",
    "#sd.play(convolved, fs)\n",
    "print('Wynik splotu z binauralną odpowiedzią impulsową')\n",
    "display(ipd.Audio([convolved_l, convolved_r] , rate=samplerate))"
   ]
  },
  {
   "cell_type": "markdown",
   "metadata": {},
   "source": [
    "## 5. Zadania\n",
    " ### Zadanie 1\n",
    "   Porównaj wyniki auralizacji z wykorzystaniem wariantu 1 i 2. Które podejście daje lepsze rezultaty, dlaczego? Wykorzystaj modele \"korytarz\" i \"halaWidowiskowa\". (W folderze z modelami są już wyniki dla dużych liczb promieni).\n",
    "\n",
    " ### Zadanie 2\n",
    "   Porównaj wyniki auralizacji dla Korytarza z wynikiem splotu ze zmierzoną odpowiedzią impulsową (2gie zajęcia) i rzeczywistym nagraniem z tego pomieszczenia.\n",
    "    \n",
    " ### Zadanie 3\n",
    "   Jaki wpłw na wynik auralizacji ma wykrywanie maksimów - wykonaj auralizację w wariance 1 zmieniając wartość zmiennej `do_peak_detection` na False (możesz pominąć etap uprzestrzennienia)\n",
    "    \n",
    " ### Zadanie 4\n",
    "   Sprawdź jak zmieniają się wyniki auralizacji w zaleźności od liczby promieni i liczby odbić w symulacjach. (W folderze z plikami są już wyniki dla dużych liczb promieni)\n",
    "    \n",
    " ### Zadanie 5\n",
    "   Sprawdź jak zmieniają się wyniki auralizacji w zaleźności od szerokości okna Gaussa w wariancie drugim (zmienna `gstd_sample`).\n",
    "    \n",
    " ### Zadanie 6*\n",
    "   Zastanów się jak korzystając z powyższego programu wykonać auralizację stereofonicznego systemu nagłośnienia, czy możliwe jest uwzględnienie funkcji HRTF?"
   ]
  },
  {
   "cell_type": "code",
   "execution_count": null,
   "metadata": {},
   "outputs": [],
   "source": []
  }
 ],
 "metadata": {
  "interpreter": {
   "hash": "e54e0e078e955b1b0746e886d91677b8823d0ccc982f8f55da62263e84df05a1"
  },
  "kernelspec": {
   "display_name": "Python 3.8.8 64-bit ('base': conda)",
   "name": "python3"
  },
  "language_info": {
   "codemirror_mode": {
    "name": "ipython",
    "version": 3
   },
   "file_extension": ".py",
   "mimetype": "text/x-python",
   "name": "python",
   "nbconvert_exporter": "python",
   "pygments_lexer": "ipython3",
   "version": "3.8.8"
  }
 },
 "nbformat": 4,
 "nbformat_minor": 4
}
